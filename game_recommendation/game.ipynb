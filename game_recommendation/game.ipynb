{
 "cells": [
  {
   "cell_type": "code",
   "execution_count": 2,
   "id": "dbb4e915-7bda-4fca-b9f0-54a7956f49aa",
   "metadata": {},
   "outputs": [],
   "source": [
    "import pandas as pd\n",
    "import difflib\n",
    "from sklearn.feature_extraction.text import TfidfVectorizer\n",
    "from sklearn.metrics.pairwise import cosine_similarity"
   ]
  },
  {
   "cell_type": "code",
   "execution_count": 3,
   "id": "637fa226-8248-4a88-879c-f9b5456fad35",
   "metadata": {},
   "outputs": [
    {
     "data": {
      "text/html": [
       "<div>\n",
       "<style scoped>\n",
       "    .dataframe tbody tr th:only-of-type {\n",
       "        vertical-align: middle;\n",
       "    }\n",
       "\n",
       "    .dataframe tbody tr th {\n",
       "        vertical-align: top;\n",
       "    }\n",
       "\n",
       "    .dataframe thead th {\n",
       "        text-align: right;\n",
       "    }\n",
       "</style>\n",
       "<table border=\"1\" class=\"dataframe\">\n",
       "  <thead>\n",
       "    <tr style=\"text-align: right;\">\n",
       "      <th></th>\n",
       "      <th>title</th>\n",
       "      <th>thumbnail</th>\n",
       "      <th>short_description</th>\n",
       "      <th>game_url</th>\n",
       "      <th>genre</th>\n",
       "      <th>platform</th>\n",
       "      <th>publisher</th>\n",
       "      <th>developer</th>\n",
       "      <th>release_date</th>\n",
       "      <th>freetogame_profile_url</th>\n",
       "    </tr>\n",
       "  </thead>\n",
       "  <tbody>\n",
       "    <tr>\n",
       "      <th>0</th>\n",
       "      <td>Tarisland</td>\n",
       "      <td>https://www.freetogame.com/g/582/thumbnail.jpg</td>\n",
       "      <td>A cross-platform MMORPG developed by Level Inf...</td>\n",
       "      <td>https://www.freetogame.com/open/tarisland</td>\n",
       "      <td>MMORPG</td>\n",
       "      <td>PC (Windows)</td>\n",
       "      <td>Tencent</td>\n",
       "      <td>Level Infinite</td>\n",
       "      <td>2024-06-22</td>\n",
       "      <td>https://www.freetogame.com/tarisland</td>\n",
       "    </tr>\n",
       "    <tr>\n",
       "      <th>1</th>\n",
       "      <td>Overwatch 2</td>\n",
       "      <td>https://www.freetogame.com/g/540/thumbnail.jpg</td>\n",
       "      <td>A hero-focused first-person team shooter from ...</td>\n",
       "      <td>https://www.freetogame.com/open/overwatch-2</td>\n",
       "      <td>Shooter</td>\n",
       "      <td>PC (Windows)</td>\n",
       "      <td>Activision Blizzard</td>\n",
       "      <td>Blizzard Entertainment</td>\n",
       "      <td>2022-10-04</td>\n",
       "      <td>https://www.freetogame.com/overwatch-2</td>\n",
       "    </tr>\n",
       "    <tr>\n",
       "      <th>2</th>\n",
       "      <td>PUBG: BATTLEGROUNDS</td>\n",
       "      <td>https://www.freetogame.com/g/516/thumbnail.jpg</td>\n",
       "      <td>Get into the action in one of the longest runn...</td>\n",
       "      <td>https://www.freetogame.com/open/pubg</td>\n",
       "      <td>Shooter</td>\n",
       "      <td>PC (Windows)</td>\n",
       "      <td>KRAFTON, Inc.</td>\n",
       "      <td>KRAFTON, Inc.</td>\n",
       "      <td>2022-01-12</td>\n",
       "      <td>https://www.freetogame.com/pubg</td>\n",
       "    </tr>\n",
       "    <tr>\n",
       "      <th>3</th>\n",
       "      <td>Enlisted</td>\n",
       "      <td>https://www.freetogame.com/g/508/thumbnail.jpg</td>\n",
       "      <td>Get ready to command your own World War II mil...</td>\n",
       "      <td>https://www.freetogame.com/open/enlisted</td>\n",
       "      <td>Shooter</td>\n",
       "      <td>PC (Windows)</td>\n",
       "      <td>Gaijin Entertainment</td>\n",
       "      <td>Darkflow Software</td>\n",
       "      <td>2021-04-08</td>\n",
       "      <td>https://www.freetogame.com/enlisted</td>\n",
       "    </tr>\n",
       "    <tr>\n",
       "      <th>4</th>\n",
       "      <td>Genshin Impact</td>\n",
       "      <td>https://www.freetogame.com/g/475/thumbnail.jpg</td>\n",
       "      <td>If you’ve been looking for a game to scratch t...</td>\n",
       "      <td>https://www.freetogame.com/open/genshin-impact</td>\n",
       "      <td>Action RPG</td>\n",
       "      <td>PC (Windows)</td>\n",
       "      <td>miHoYo</td>\n",
       "      <td>miHoYo</td>\n",
       "      <td>2020-09-28</td>\n",
       "      <td>https://www.freetogame.com/genshin-impact</td>\n",
       "    </tr>\n",
       "  </tbody>\n",
       "</table>\n",
       "</div>"
      ],
      "text/plain": [
       "                 title                                       thumbnail  \\\n",
       "0            Tarisland  https://www.freetogame.com/g/582/thumbnail.jpg   \n",
       "1          Overwatch 2  https://www.freetogame.com/g/540/thumbnail.jpg   \n",
       "2  PUBG: BATTLEGROUNDS  https://www.freetogame.com/g/516/thumbnail.jpg   \n",
       "3             Enlisted  https://www.freetogame.com/g/508/thumbnail.jpg   \n",
       "4       Genshin Impact  https://www.freetogame.com/g/475/thumbnail.jpg   \n",
       "\n",
       "                                   short_description  \\\n",
       "0  A cross-platform MMORPG developed by Level Inf...   \n",
       "1  A hero-focused first-person team shooter from ...   \n",
       "2  Get into the action in one of the longest runn...   \n",
       "3  Get ready to command your own World War II mil...   \n",
       "4  If you’ve been looking for a game to scratch t...   \n",
       "\n",
       "                                         game_url       genre      platform  \\\n",
       "0       https://www.freetogame.com/open/tarisland      MMORPG  PC (Windows)   \n",
       "1     https://www.freetogame.com/open/overwatch-2     Shooter  PC (Windows)   \n",
       "2            https://www.freetogame.com/open/pubg     Shooter  PC (Windows)   \n",
       "3        https://www.freetogame.com/open/enlisted     Shooter  PC (Windows)   \n",
       "4  https://www.freetogame.com/open/genshin-impact  Action RPG  PC (Windows)   \n",
       "\n",
       "              publisher               developer release_date  \\\n",
       "0               Tencent          Level Infinite   2024-06-22   \n",
       "1   Activision Blizzard  Blizzard Entertainment   2022-10-04   \n",
       "2         KRAFTON, Inc.           KRAFTON, Inc.   2022-01-12   \n",
       "3  Gaijin Entertainment       Darkflow Software   2021-04-08   \n",
       "4                miHoYo                  miHoYo   2020-09-28   \n",
       "\n",
       "                      freetogame_profile_url  \n",
       "0       https://www.freetogame.com/tarisland  \n",
       "1     https://www.freetogame.com/overwatch-2  \n",
       "2            https://www.freetogame.com/pubg  \n",
       "3        https://www.freetogame.com/enlisted  \n",
       "4  https://www.freetogame.com/genshin-impact  "
      ]
     },
     "execution_count": 3,
     "metadata": {},
     "output_type": "execute_result"
    }
   ],
   "source": [
    "df = pd.read_csv(\"games.csv\")\n",
    "df.head()"
   ]
  },
  {
   "cell_type": "code",
   "execution_count": 4,
   "id": "4356f020-c06a-43ef-8517-e51847e1ea02",
   "metadata": {},
   "outputs": [
    {
     "data": {
      "text/plain": [
       "title                     False\n",
       "thumbnail                 False\n",
       "short_description         False\n",
       "game_url                  False\n",
       "genre                     False\n",
       "platform                  False\n",
       "publisher                 False\n",
       "developer                 False\n",
       "release_date              False\n",
       "freetogame_profile_url    False\n",
       "dtype: bool"
      ]
     },
     "execution_count": 4,
     "metadata": {},
     "output_type": "execute_result"
    }
   ],
   "source": [
    "df.isnull().any()"
   ]
  },
  {
   "cell_type": "code",
   "execution_count": 5,
   "id": "46b98c66-10a0-489c-aa84-6a13f05032b2",
   "metadata": {},
   "outputs": [
    {
     "name": "stdout",
     "output_type": "stream",
     "text": [
      "['short_description', 'genre', 'platform', 'publisher', 'developer']\n"
     ]
    }
   ],
   "source": [
    "selected_features = ['short_description', 'genre', 'platform','publisher', 'developer']\n",
    "print(selected_features)"
   ]
  },
  {
   "cell_type": "code",
   "execution_count": 6,
   "id": "c32d4133",
   "metadata": {},
   "outputs": [],
   "source": [
    "for feature in selected_features:\n",
    "    df[feature] = df[feature].fillna('')"
   ]
  },
  {
   "cell_type": "code",
   "execution_count": 7,
   "id": "75ce0bb7",
   "metadata": {},
   "outputs": [
    {
     "name": "stdout",
     "output_type": "stream",
     "text": [
      "0      MMORPG A cross-platform MMORPG developed by Le...\n",
      "1      Shooter A hero-focused first-person team shoot...\n",
      "2      Shooter Get into the action in one of the long...\n",
      "3      Shooter Get ready to command your own World Wa...\n",
      "4      Action RPG If you’ve been looking for a game t...\n",
      "                             ...                        \n",
      "323    MMORPG A popular fantasy MMORPG, back to the g...\n",
      "324    MMORPG A 3D MMO Multi Virtual World Real Cash ...\n",
      "325    MMORPG A free to play Sci-Fi MMO that has with...\n",
      "326    MMORPG A free to play MMORPG set in the world ...\n",
      "327    MMORPG A old-school free-to-play massively mul...\n",
      "Length: 328, dtype: object\n"
     ]
    }
   ],
   "source": [
    "combined_features = df['genre']+' '+df['short_description']+' '+df['platform']+' '+df['publisher']+' '+df['developer']\n",
    "print(combined_features)"
   ]
  },
  {
   "cell_type": "code",
   "execution_count": 8,
   "id": "66ed757b",
   "metadata": {},
   "outputs": [],
   "source": [
    "vectorizer = TfidfVectorizer()"
   ]
  },
  {
   "cell_type": "code",
   "execution_count": 9,
   "id": "3f1353bd",
   "metadata": {},
   "outputs": [],
   "source": [
    "feature_vectors = vectorizer.fit_transform(combined_features)"
   ]
  },
  {
   "cell_type": "code",
   "execution_count": 10,
   "id": "cfeb03ac",
   "metadata": {},
   "outputs": [
    {
     "name": "stdout",
     "output_type": "stream",
     "text": [
      "  (0, 804)\t0.18122350523534825\n",
      "  (0, 282)\t0.22606695513262925\n",
      "  (0, 946)\t0.20094415315752667\n",
      "  (0, 334)\t0.14721738678784627\n",
      "  (0, 182)\t0.2634197270661919\n",
      "  (0, 705)\t0.4665039367806934\n",
      "  (0, 632)\t0.4521339102652585\n",
      "  (0, 62)\t0.0920915697586764\n",
      "  (0, 981)\t0.16145132466698928\n",
      "  (0, 1213)\t0.5689172880291883\n",
      "  (0, 920)\t0.04661032481834633\n",
      "  (0, 1342)\t0.04661032481834633\n",
      "  (1, 920)\t0.047318558590462474\n",
      "  (1, 1342)\t0.047318558590462474\n",
      "  (1, 1095)\t0.20925120917783882\n",
      "  (1, 580)\t0.26959490691421384\n",
      "  (1, 476)\t0.24542337470653328\n",
      "  (1, 466)\t0.1848114314895302\n",
      "  (1, 928)\t0.17119873048879491\n",
      "  (1, 1205)\t0.1848114314895302\n",
      "  (1, 500)\t0.15471735976861403\n",
      "  (1, 156)\t0.7362701241195998\n",
      "  (1, 409)\t0.2872101776377156\n",
      "  (1, 35)\t0.26959490691421384\n",
      "  (2, 920)\t0.04500118053120111\n",
      "  :\t:\n",
      "  (326, 495)\t0.08490885350994141\n",
      "  (326, 447)\t0.17981186728526682\n",
      "  (326, 640)\t0.23655188538692845\n",
      "  (326, 173)\t0.29421779691690975\n",
      "  (326, 1085)\t0.21521557631113752\n",
      "  (326, 216)\t0.2641848170308735\n",
      "  (326, 1317)\t0.3049370314134393\n",
      "  (326, 1262)\t0.33497001129947557\n",
      "  (326, 1242)\t0.3588085285346259\n",
      "  (326, 1055)\t0.3588085285346259\n",
      "  (327, 804)\t0.11278543775027138\n",
      "  (327, 920)\t0.05801638017642912\n",
      "  (327, 1342)\t0.05801638017642912\n",
      "  (327, 1239)\t0.0808388852120747\n",
      "  (327, 509)\t0.11604826262950663\n",
      "  (327, 950)\t0.0846180317312525\n",
      "  (327, 757)\t0.26069501802565065\n",
      "  (327, 830)\t0.1734338919595045\n",
      "  (327, 495)\t0.08378723404730978\n",
      "  (327, 891)\t0.18173608490772955\n",
      "  (327, 1042)\t0.2668076537576397\n",
      "  (327, 956)\t0.2813880071726067\n",
      "  (327, 886)\t0.2813880071726067\n",
      "  (327, 1063)\t0.29033127161791994\n",
      "  (327, 209)\t0.7081375596475717\n"
     ]
    }
   ],
   "source": [
    "print(feature_vectors)"
   ]
  },
  {
   "cell_type": "code",
   "execution_count": 11,
   "id": "b7d0b3bb",
   "metadata": {},
   "outputs": [],
   "source": [
    "similarity = cosine_similarity(feature_vectors)"
   ]
  },
  {
   "cell_type": "code",
   "execution_count": 12,
   "id": "da7d232a",
   "metadata": {},
   "outputs": [
    {
     "name": "stdout",
     "output_type": "stream",
     "text": [
      "[[1.         0.00441107 0.00419504 ... 0.02541569 0.04690669 0.0258477 ]\n",
      " [0.00441107 1.         0.02507963 ... 0.00539874 0.05681047 0.0054905 ]\n",
      " [0.00419504 0.02507963 1.         ... 0.04454648 0.1314569  0.00522161]\n",
      " ...\n",
      " [0.02541569 0.00539874 0.04454648 ... 1.         0.08764196 0.03949645]\n",
      " [0.04690669 0.05681047 0.1314569  ... 0.08764196 1.         0.05359634]\n",
      " [0.0258477  0.0054905  0.00522161 ... 0.03949645 0.05359634 1.        ]]\n"
     ]
    }
   ],
   "source": [
    "print(similarity)"
   ]
  },
  {
   "cell_type": "code",
   "execution_count": 13,
   "id": "2e64f9af",
   "metadata": {},
   "outputs": [
    {
     "name": "stdout",
     "output_type": "stream",
     "text": [
      "(328, 328)\n"
     ]
    }
   ],
   "source": [
    "print(similarity.shape)\n"
   ]
  },
  {
   "cell_type": "code",
   "execution_count": 14,
   "id": "44f44bed",
   "metadata": {},
   "outputs": [],
   "source": [
    "game_name = input(\"Enter your favourite game : \")"
   ]
  },
  {
   "cell_type": "code",
   "execution_count": 15,
   "id": "5899a19c",
   "metadata": {},
   "outputs": [
    {
     "name": "stdout",
     "output_type": "stream",
     "text": [
      "['Tarisland', 'Overwatch 2', 'PUBG: BATTLEGROUNDS', 'Enlisted', 'Genshin Impact', 'Fall Guys', 'Neverwinter', 'Lost Ark', 'Diablo Immortal', 'Phantasy Star Online 2 New Genesis', 'Crossout', 'World of Warships', 'War Thunder', 'World of Tanks', 'XDefiant', 'Palia', 'Halo Infinite', 'Star Trek Online', 'Tower of Fantasy', 'Noah’s Heart', 'Valorant', 'Phantasy Star Online 2', 'Call Of Duty: Warzone', 'Destiny 2', 'Dauntless', 'Apex Legends', 'Fortnite', 'Albion Online', 'Blade and Soul', 'Brawlhalla', 'Trove', 'Smite', 'Warframe', 'Guild Wars 2', 'RuneScape', 'Screenplay CCG', 'Predecessor', 'Project Apidom', 'Ravendawn', 'Kritika: Zero', 'One Punch Man: World', 'Battle Teams 2', 'The Finals', 'Infinite Borders', \"Destiny's Divide\", 'Warhammer 40,000: Warpforge', 'Synced', 'Microvolts: Recharged', 'Deceit 2', 'Hawked', 'Tales Of Yore', 'Waven', 'Town of Salem 2', 'Naraka: Bladepoint', 'Undawn', 'Eden Eternal', 'Veiled Experts', 'Jected - Rivals', 'Ethyrial: Echoes of Yore', 'Mad World', 'Dead Cide Club', 'Kartrider: Drift', 'Warlander', 'Fangs', 'Summoners War: Chronicles', 'Marvel Snap', 'World Boss', 'Omega Strikers', 'Gundam Evolution', 'Deathverse: Let It Die', 'Galahad 3093', 'Aero Tales Online', 'Magic Spellslingers', 'A.V.A Global', 'Lost Light', 'Temperia: Soul of Majestic', 'MultiVersus', 'Chimeraland', 'Roller Champions', 'Goose, Goose, DUCK', 'Super Squad', 'Sherwood Extreme', 'Smash Legends', 'Drifters Loot the Galaxy', 'Primordials: Battle of Gods', 'Super Mecha Champions', 'Chroma: Bloom And Blight', 'Blankos Block Party', 'Slapshot: Rebound', 'Rogue Company', 'Eternal Return: Black Survival', 'Blood of Steel', 'Spellbreak', 'Rocket League', 'Unfortunate Spacemen', 'Shop Titans', 'Bombergrounds: Battle Royale', 'Kakale Online', 'Darwin Project', 'Legends of Runeterra', 'CRSED: F.O.A.D.', 'Inferna', 'Fer.al', 'Battle Breakers', 'Stay Out', 'PC Futbol Legends', 'Mythgard', 'Legends of Aria', 'Crystal Clash', 'Dota Underlords', 'Minion Masters', 'Splitgate: Arena Warfare', \"Conqueror's Blade\", 'Kards', 'KurtzPel', 'Eternal', 'Artifact', 'World War 3', 'Combat Arms: Reloaded', 'Dreadnought', 'Spacelords', 'Battlerite Royale', 'Magic: The Gathering Arena', 'BlackShot: Revolution', 'Cosmos Invictus', 'Realm Royale Reforged', 'Totally Accurate Battlegrounds', 'Will To Live', 'Spellsworn', 'Z1 Battle Royale', 'Tale Of Toast', 'Bombtag', 'Ironsight', 'Dead Maze', 'Scions of Fate', 'Wild Terra Online', 'Global Adventures', 'Closers', 'La Tale Evolved', 'Luna Online: Reborn', 'The Ultimatest Battle', 'Insidia', 'Quake Champions', 'Black Squad', 'Secret World Legends', 'Argo', 'Pixel Worlds', 'Deceit', 'Gwent: The Witcher Card Game', 'Awesomenauts', 'Alien Swarm: Reactive Drop', 'Catan Universe', 'Krosmaga', 'Revelation Online', 'MU Legend', 'Therian Saga', 'Cabals: Card Blitz', 'Line of Sight', 'Heavy Metal Machines', 'Infestation: The New Z', 'One Tower', 'Shadowverse', 'AdventureQuest 3D', 'Riding Club Championships', 'Battlerite', 'Paladins', 'Star Crusade', 'The Elder Scrolls: Legends', 'Riders of Icarus', 'Zula', 'LuckCatchers', 'UFO Online: Invasion', 'Weapons Of Mythology', 'Tree of Savior', 'Starbreak', 'Fantasy Tales Online', 'Astral Heroes', 'Holodrive', 'Cabal Online', 'Atom Universe', 'Spellweaver', 'War Trigger 3', 'VEGA Conflict', 'Metal War Online: Retribution', 'Immortal Empire', 'MechWarrior Online', 'Armored Warfare', 'America’s Army: Proving Grounds', 'Otherland', 'Forza Motorsport 6: Apex', 'WARMODE', 'Sphere 3: Enchanted World', 'Fishing Planet', 'Codename CURE', 'Skyforge', 'Card Hunter', 'Fallout Shelter', 'Salem', 'Heroes of the Storm', 'Dirty Bomb', 'Block N Load', 'Survarium', 'Dungeon Fighter Online', 'Grimoire: Manastorm', 'Transformice', 'Gear Up', '8BitMMO', 'Dungeon Defenders 2', 'Blockade 3D', 'Eldevin', 'Double Action', 'Pox Nora', 'Counter-Strike Nexon: Studio', 'Uncharted Waters Online', 'ArcheAge', 'WAKFU', 'Infinity Wars', 'Divine Souls', 'Cubic Castles', 'Creativerse', 'Royal Quest', 'Guns and Robots', 'Heroes & Generals', 'Robocraft', 'Unturned', 'Warface', 'Freestyle2: Street Basketball', 'Fistful of Frags', 'GunZ 2: The Second Duel', 'Archeblade', 'Villagers and Heroes', 'Hex', 'Dogs of War Online', 'Hearthstone: Heroes of Warcraft', 'Lucent Heart', 'Aura Kingdom', 'World of Warplanes', 'RIFT', 'Path of Exile', 'Dota 2', 'Ragnarok Online 2', 'Panzar', 'Kingdom Wars', 'Champions of Regnum', 'Star Conflict', 'Epic Cards Battle', 'Age of Wushu', 'Everquest', 'Mabinogi', 'PlanetSide 2', 'AirMech Strike', 'Pirate 101', 'Continent of the Ninth Seal', 'Counter-Strike: Global Offensive', 'Gotham City Impostors', 'RPG MO', 'Realm of the Mad God', 'Star Wars: The Old Republic', '5Street', 'No More Room in Hell', 'Digimon Masters Online', 'Dragon Nest', 'Mission Against Terror', 'Spiral Knights', 'Asda Global', 'Brink', 'Allods Online', 'Elsword', 'DC Universe Online', 'Bloodline Champions', 'GetAmped 2', 'Dragon Saga', 'Vindictus', 'Aika Online', 'APB Reloaded', 'Mortal Online', 'Grand Fantasia', 'League of Legends', 'Twelve Sky 2', 'Champions Online', 'WolfTeam', 'Runes of Magic', 'theHunter', 'AION', 'Atlantica Online', 'Florensia', '4Story', 'Wizard101', 'Perfect World International', 'Ace Online', 'Rohan: Blood Feud', 'Age of Conan: Unchained', 'Saga', 'Fiesta Online', 'Shaiya', 'Angels Online', 'Seal Online', 'Team Fortress 2', 'Rumble Fighter', 'Granado Espada Online', '9Dragons', 'Crossfire', 'Teeworlds', 'Priston Tale', 'Audition Online', 'Roblox', 'Voyage Century Online', 'Metin2', 'Rappelz', 'Dungeons and Dragons Online', 'RF Online', 'Flyff: Fly For Fun', 'Dream of Mirror Online', 'MapleStory', 'Shot Online', 'Everquest 2', 'Dofus', 'Ryzom', 'Kal Online', 'Lineage 2', 'Red Stone Online', 'Mu Online', 'Second Life', 'Ragnarok Online', 'Entropia Universe', 'Anarchy Online', 'The Lord of the Rings Online', 'Tibia']\n"
     ]
    }
   ],
   "source": [
    "list_of_all_title = df['title'].tolist()\n",
    "print(list_of_all_title)"
   ]
  },
  {
   "cell_type": "code",
   "execution_count": 16,
   "id": "2b78a866",
   "metadata": {},
   "outputs": [
    {
     "name": "stdout",
     "output_type": "stream",
     "text": [
      "['Enlisted']\n"
     ]
    }
   ],
   "source": [
    "find_close_match = difflib.get_close_matches(game_name, list_of_all_title)\n",
    "print(find_close_match)"
   ]
  },
  {
   "cell_type": "code",
   "execution_count": 17,
   "id": "df10be50",
   "metadata": {},
   "outputs": [
    {
     "name": "stdout",
     "output_type": "stream",
     "text": [
      "Enlisted\n"
     ]
    }
   ],
   "source": [
    "close_match = find_close_match[0]\n",
    "print(close_match)"
   ]
  },
  {
   "cell_type": "code",
   "execution_count": 18,
   "id": "05ba56fc",
   "metadata": {},
   "outputs": [
    {
     "name": "stdout",
     "output_type": "stream",
     "text": [
      "3\n"
     ]
    }
   ],
   "source": [
    "index_of_game = df[df['title'] == close_match].index.values[0]\n",
    "print(index_of_game)"
   ]
  },
  {
   "cell_type": "code",
   "execution_count": 19,
   "id": "e9113d9b",
   "metadata": {},
   "outputs": [
    {
     "name": "stdout",
     "output_type": "stream",
     "text": [
      "[(0, 0.00985385031543838), (1, 0.0677384710162705), (2, 0.06865056919591066), (3, 1.0000000000000002), (4, 0.01688204863409342), (5, 0.0031179578206463887), (6, 0.06287735052824923), (7, 0.013458110907984575), (8, 0.08393693707785443), (9, 0.003671580148204916), (10, 0.1897416476567832), (11, 0.06056133173191117), (12, 0.3793514364024952), (13, 0.025007316735303726), (14, 0.042838881310988904), (15, 0.023769725634390233), (16, 0.03241773337888232), (17, 0.06576994027887069), (18, 0.035394743069430815), (19, 0.02453293500721618), (20, 0.08674726452316343), (21, 0.02156174251721681), (22, 0.03113905742560287), (23, 0.02376147261850626), (24, 0.008686315973928327), (25, 0.0455115967595141), (26, 0.024444898499918623), (27, 0.021090394406331384), (28, 0.007395462629143703), (29, 0.0064216322264272225), (30, 0.007822754752509837), (31, 0.006211727297648398), (32, 0.06388002185685637), (33, 0.011352005379724632), (34, 0.009482271431643173), (35, 0.0039422667950363205), (36, 0.027293186218801637), (37, 0.006218170684815017), (38, 0.01081509881241594), (39, 0.012977842105541797), (40, 0.025718639032767627), (41, 0.037799034939484506), (42, 0.0334336200002913), (43, 0.0063927490453519024), (44, 0.007572083856099313), (45, 0.020223572686281444), (46, 0.059033044976629645), (47, 0.06377063208062317), (48, 0.048319087632824685), (49, 0.05281033349103839), (50, 0.01617338108781638), (51, 0.0076570506993478985), (52, 0.018181004173654366), (53, 0.02901542499181495), (54, 0.040965843523636705), (55, 0.04887920339178026), (56, 0.04913337963247965), (57, 0.028588772739422952), (58, 0.06524604716655047), (59, 0.011781081835822877), (60, 0.0586381879330085), (61, 0.020004205756756523), (62, 0.013246994870342258), (63, 0.003290272734031978), (64, 0.05487553217906725), (65, 0.018198136474953417), (66, 0.04786093996539299), (67, 0.0037474483559243855), (68, 0.0633333264146297), (69, 0.013921360634902846), (70, 0.04993550611383763), (71, 0.021791975290750533), (72, 0.014196403132755223), (73, 0.04358742213760813), (74, 0.041849727694977), (75, 0.032526184782836746), (76, 0.014034288189466637), (77, 0.05869588998657767), (78, 0.019404875792598798), (79, 0.0038040172148935242), (80, 0.08630249958775799), (81, 0.037031702697276826), (82, 0.040103411603269974), (83, 0.07413764637769235), (84, 0.04167104824850948), (85, 0.018776294852767182), (86, 0.010180808764052692), (87, 0.06379059677560803), (88, 0.014298990318410636), (89, 0.04538387628634807), (90, 0.016008822577392407), (91, 0.06843437808223854), (92, 0.010142734990268373), (93, 0.04794516605599371), (94, 0.021159329566644278), (95, 0.07437860379090183), (96, 0.00572737668221558), (97, 0.012009963755733696), (98, 0.024168343680366758), (99, 0.021590964661778227), (100, 0.2651965430024405), (101, 0.01691283890103488), (102, 0.018247648070415304), (103, 0.019979358711865857), (104, 0.04121863274294524), (105, 0.0032143678620151447), (106, 0.026136663941143952), (107, 0.02781658044377444), (108, 0.0054174370777393885), (109, 0.03313213045660697), (110, 0.006169508387215807), (111, 0.046330835200095864), (112, 0.1339301370582624), (113, 0.08546314566344866), (114, 0.007068637855230696), (115, 0.013922627637552542), (116, 0.016405255740891002), (117, 0.04639813623661305), (118, 0.05912420497100937), (119, 0.023139907761614946), (120, 0.07295969921779646), (121, 0.023303249715456203), (122, 0.004826935071841982), (123, 0.10317737838571349), (124, 0.008266783669534674), (125, 0.04369471600633151), (126, 0.03295586404909614), (127, 0.02622761325455909), (128, 0.010096280907225141), (129, 0.04457687626965452), (130, 0.031996506237122996), (131, 0.007215703715000783), (132, 0.04718397682957435), (133, 0.02632805145160275), (134, 0.012150245769525291), (135, 0.028299156861010713), (136, 0.014808271176603147), (137, 0.03516602789072283), (138, 0.004535767029577464), (139, 0.03208651258620235), (140, 0.018589791055717717), (141, 0.021998341636459234), (142, 0.07961056137312034), (143, 0.08358347557290624), (144, 0.030002385197860384), (145, 0.040713817855225216), (146, 0.05556139308859227), (147, 0.0651249060543622), (148, 0.01349705352744619), (149, 0.0032119158219416307), (150, 0.025025281101687145), (151, 0.03461049661845223), (152, 0.010451211756784562), (153, 0.02890739728056003), (154, 0.0215117291790621), (155, 0.02274117539335203), (156, 0.011881817810927392), (157, 0.05314679076794181), (158, 0.05870155439463659), (159, 0.07066182009546904), (160, 0.031168639164370453), (161, 0.01838134592010819), (162, 0.041300822449911574), (163, 0.0035131222035895853), (164, 0.014190023467146304), (165, 0.04970199513907276), (166, 0.011097988681799537), (167, 0.02354319545433082), (168, 0.027945326503114612), (169, 0.032389288205431827), (170, 0.027541039744855764), (171, 0.028401350783201385), (172, 0.00918259238509734), (173, 0.00982311791692801), (174, 0.009054085718174103), (175, 0.02209243224139468), (176, 0.1826593845993003), (177, 0.043917005138656505), (178, 0.05887885473161461), (179, 0.030603777700603588), (180, 0.012158637159750038), (181, 0.05955416173796908), (182, 0.02480869053635351), (183, 0.034635957410799036), (184, 0.006028830308834245), (185, 0.022793019966176074), (186, 0.08047701479678548), (187, 0.03294595726291992), (188, 0.06885321273286517), (189, 0.01728386711449829), (190, 0.05539791318033284), (191, 0.003882273387826238), (192, 0.005338837806029282), (193, 0.05189339422352936), (194, 0.02483763663543547), (195, 0.008310463712299258), (196, 0.01974422359335651), (197, 0.047076140638964606), (198, 0.056013467791690294), (199, 0.06420095505925492), (200, 0.04799955565001817), (201, 0.030624846623793972), (202, 0.006922409863354623), (203, 0.03294947756709462), (204, 0.02093299935561109), (205, 0.09741727431293945), (206, 0.0626594630399023), (207, 0.06359873091934358), (208, 0.050898829199627134), (209, 0.006451461024446619), (210, 0.02839096656308022), (211, 0.015505897472090684), (212, 0.02212995880857422), (213, 0.008238437556499145), (214, 0.012672577890237128), (215, 0.028755732849040965), (216, 0.04671847507179235), (217, 0.07929696421095817), (218, 0.04001577072222333), (219, 0.027040206008100545), (220, 0.014469870676882511), (221, 0.037199653986320295), (222, 0.11722607706332198), (223, 0.04746539133948734), (224, 0.039482521144369065), (225, 0.025759207760431054), (226, 0.01965535819935138), (227, 0.04501225656018143), (228, 0.04458714657630828), (229, 0.04103589885326159), (230, 0.009162301926436873), (231, 0.05085425091724628), (232, 0.021487573062022168), (233, 0.04771792681044496), (234, 0.0069039539266186264), (235, 0.006376813108044145), (236, 0.043696871749785565), (237, 0.0028877387319495686), (238, 0.018810201613939304), (239, 0.007574017393031489), (240, 0.016595026124615324), (241, 0.034987901618588675), (242, 0.03545452284573973), (243, 0.007177768006405114), (244, 0.18637873616165734), (245, 0.029370154108360635), (246, 0.03139177161061206), (247, 0.025929534394536234), (248, 0.04111815374096742), (249, 0.082144487411472), (250, 0.008549654012243566), (251, 0.05637752322904767), (252, 0.006251088945439728), (253, 0.05773412742667264), (254, 0.03115318895437469), (255, 0.009991057861265033), (256, 0.04456076430871352), (257, 0.02879483551000399), (258, 0.03191987818258958), (259, 0.035711858607682605), (260, 0.02174492238842668), (261, 0.007616160462542328), (262, 0.052906497711530553), (263, 0.01188943574185596), (264, 0.015758165583513544), (265, 0.025623800637756478), (266, 0.03651993639393625), (267, 0.00821436156187682), (268, 0.03610364947669176), (269, 0.019489816864862), (270, 0.025044553951055506), (271, 0.008136898262133232), (272, 0.038872803951254434), (273, 0.009875875283932566), (274, 0.06091465589567974), (275, 0.00675588492946213), (276, 0.0525967902796312), (277, 0.047411812458602876), (278, 0.04181925779027947), (279, 0.038633137572274934), (280, 0.03985164472806801), (281, 0.06982558962048341), (282, 0.04849702268699226), (283, 0.04283214165910429), (284, 0.009711955483944289), (285, 0.013344474041102995), (286, 0.035070990206971235), (287, 0.06029408767718875), (288, 0.053970928658887744), (289, 0.043700067469166874), (290, 0.007566812886898528), (291, 0.0036342488505975534), (292, 0.01265000662758017), (293, 0.009022829718723986), (294, 0.03862054272332298), (295, 0.004334589689986157), (296, 0.0028064974982821497), (297, 0.06080339156631346), (298, 0.06514575639824972), (299, 0.011881561181016949), (300, 0.01807976407638907), (301, 0.0514025409976459), (302, 0.10744215467412219), (303, 0.010394027991413608), (304, 0.051084015937092345), (305, 0.03644493731437058), (306, 0.05491897623693092), (307, 0.033743299832277834), (308, 0.009850941695956454), (309, 0.04433279923068035), (310, 0.01642316983242788), (311, 0.013759827739783669), (312, 0.010310946504280417), (313, 0.035548408470753204), (314, 0.025697013290274875), (315, 0.022321188911013402), (316, 0.011869894079939053), (317, 0.037469417210174535), (318, 0.00441522841294128), (319, 0.004522489956589255), (320, 0.011430414061464608), (321, 0.00915497294395369), (322, 0.021794822656928996), (323, 0.007300480446263892), (324, 0.03349141711212583), (325, 0.024810775411003023), (326, 0.06106782218560859), (327, 0.008188668845900918)]\n"
     ]
    }
   ],
   "source": [
    "similarity_score = list(enumerate(similarity[index_of_game]))\n",
    "print(similarity_score)"
   ]
  },
  {
   "cell_type": "code",
   "execution_count": 20,
   "id": "f783c3d6",
   "metadata": {},
   "outputs": [
    {
     "data": {
      "text/plain": [
       "328"
      ]
     },
     "execution_count": 20,
     "metadata": {},
     "output_type": "execute_result"
    }
   ],
   "source": [
    "len(similarity_score)"
   ]
  },
  {
   "cell_type": "code",
   "execution_count": 21,
   "id": "da52d753",
   "metadata": {},
   "outputs": [
    {
     "name": "stdout",
     "output_type": "stream",
     "text": [
      "[(3, 1.0000000000000002), (12, 0.3793514364024952), (100, 0.2651965430024405), (10, 0.1897416476567832), (244, 0.18637873616165734), (176, 0.1826593845993003), (112, 0.1339301370582624), (222, 0.11722607706332198), (302, 0.10744215467412219), (123, 0.10317737838571349), (205, 0.09741727431293945), (20, 0.08674726452316343), (80, 0.08630249958775799), (113, 0.08546314566344866), (8, 0.08393693707785443), (143, 0.08358347557290624), (249, 0.082144487411472), (186, 0.08047701479678548), (142, 0.07961056137312034), (217, 0.07929696421095817), (95, 0.07437860379090183), (83, 0.07413764637769235), (120, 0.07295969921779646), (159, 0.07066182009546904), (281, 0.06982558962048341), (188, 0.06885321273286517), (2, 0.06865056919591066), (91, 0.06843437808223854), (1, 0.0677384710162705), (17, 0.06576994027887069), (58, 0.06524604716655047), (298, 0.06514575639824972), (147, 0.0651249060543622), (199, 0.06420095505925492), (32, 0.06388002185685637), (87, 0.06379059677560803), (47, 0.06377063208062317), (207, 0.06359873091934358), (68, 0.0633333264146297), (6, 0.06287735052824923), (206, 0.0626594630399023), (326, 0.06106782218560859), (274, 0.06091465589567974), (297, 0.06080339156631346), (11, 0.06056133173191117), (287, 0.06029408767718875), (181, 0.05955416173796908), (118, 0.05912420497100937), (46, 0.059033044976629645), (178, 0.05887885473161461), (158, 0.05870155439463659), (77, 0.05869588998657767), (60, 0.0586381879330085), (253, 0.05773412742667264), (251, 0.05637752322904767), (198, 0.056013467791690294), (146, 0.05556139308859227), (190, 0.05539791318033284), (306, 0.05491897623693092), (64, 0.05487553217906725), (288, 0.053970928658887744), (157, 0.05314679076794181), (262, 0.052906497711530553), (49, 0.05281033349103839), (276, 0.0525967902796312), (193, 0.05189339422352936), (301, 0.0514025409976459), (304, 0.051084015937092345), (208, 0.050898829199627134), (231, 0.05085425091724628), (70, 0.04993550611383763), (165, 0.04970199513907276), (56, 0.04913337963247965), (55, 0.04887920339178026), (282, 0.04849702268699226), (48, 0.048319087632824685), (200, 0.04799955565001817), (93, 0.04794516605599371), (66, 0.04786093996539299), (233, 0.04771792681044496), (223, 0.04746539133948734), (277, 0.047411812458602876), (132, 0.04718397682957435), (197, 0.047076140638964606), (216, 0.04671847507179235), (117, 0.04639813623661305), (111, 0.046330835200095864), (25, 0.0455115967595141), (89, 0.04538387628634807), (227, 0.04501225656018143), (228, 0.04458714657630828), (129, 0.04457687626965452), (256, 0.04456076430871352), (309, 0.04433279923068035), (177, 0.043917005138656505), (289, 0.043700067469166874), (236, 0.043696871749785565), (125, 0.04369471600633151), (73, 0.04358742213760813), (14, 0.042838881310988904), (283, 0.04283214165910429), (74, 0.041849727694977), (278, 0.04181925779027947), (84, 0.04167104824850948), (162, 0.041300822449911574), (104, 0.04121863274294524), (248, 0.04111815374096742), (229, 0.04103589885326159), (54, 0.040965843523636705), (145, 0.040713817855225216), (82, 0.040103411603269974), (218, 0.04001577072222333), (280, 0.03985164472806801), (224, 0.039482521144369065), (272, 0.038872803951254434), (279, 0.038633137572274934), (294, 0.03862054272332298), (41, 0.037799034939484506), (317, 0.037469417210174535), (221, 0.037199653986320295), (81, 0.037031702697276826), (266, 0.03651993639393625), (305, 0.03644493731437058), (268, 0.03610364947669176), (259, 0.035711858607682605), (313, 0.035548408470753204), (242, 0.03545452284573973), (18, 0.035394743069430815), (137, 0.03516602789072283), (286, 0.035070990206971235), (241, 0.034987901618588675), (183, 0.034635957410799036), (151, 0.03461049661845223), (307, 0.033743299832277834), (324, 0.03349141711212583), (42, 0.0334336200002913), (109, 0.03313213045660697), (126, 0.03295586404909614), (203, 0.03294947756709462), (187, 0.03294595726291992), (75, 0.032526184782836746), (16, 0.03241773337888232), (169, 0.032389288205431827), (139, 0.03208651258620235), (130, 0.031996506237122996), (258, 0.03191987818258958), (246, 0.03139177161061206), (160, 0.031168639164370453), (254, 0.03115318895437469), (22, 0.03113905742560287), (201, 0.030624846623793972), (179, 0.030603777700603588), (144, 0.030002385197860384), (245, 0.029370154108360635), (53, 0.02901542499181495), (153, 0.02890739728056003), (257, 0.02879483551000399), (215, 0.028755732849040965), (57, 0.028588772739422952), (171, 0.028401350783201385), (210, 0.02839096656308022), (135, 0.028299156861010713), (168, 0.027945326503114612), (107, 0.02781658044377444), (170, 0.027541039744855764), (36, 0.027293186218801637), (219, 0.027040206008100545), (133, 0.02632805145160275), (127, 0.02622761325455909), (106, 0.026136663941143952), (247, 0.025929534394536234), (225, 0.025759207760431054), (40, 0.025718639032767627), (314, 0.025697013290274875), (265, 0.025623800637756478), (270, 0.025044553951055506), (150, 0.025025281101687145), (13, 0.025007316735303726), (194, 0.02483763663543547), (325, 0.024810775411003023), (182, 0.02480869053635351), (19, 0.02453293500721618), (26, 0.024444898499918623), (98, 0.024168343680366758), (15, 0.023769725634390233), (23, 0.02376147261850626), (167, 0.02354319545433082), (121, 0.023303249715456203), (119, 0.023139907761614946), (185, 0.022793019966176074), (155, 0.02274117539335203), (315, 0.022321188911013402), (212, 0.02212995880857422), (175, 0.02209243224139468), (141, 0.021998341636459234), (322, 0.021794822656928996), (71, 0.021791975290750533), (260, 0.02174492238842668), (99, 0.021590964661778227), (21, 0.02156174251721681), (154, 0.0215117291790621), (232, 0.021487573062022168), (94, 0.021159329566644278), (27, 0.021090394406331384), (204, 0.02093299935561109), (45, 0.020223572686281444), (61, 0.020004205756756523), (103, 0.019979358711865857), (196, 0.01974422359335651), (226, 0.01965535819935138), (269, 0.019489816864862), (78, 0.019404875792598798), (238, 0.018810201613939304), (85, 0.018776294852767182), (140, 0.018589791055717717), (161, 0.01838134592010819), (102, 0.018247648070415304), (65, 0.018198136474953417), (52, 0.018181004173654366), (300, 0.01807976407638907), (189, 0.01728386711449829), (101, 0.01691283890103488), (4, 0.01688204863409342), (240, 0.016595026124615324), (310, 0.01642316983242788), (116, 0.016405255740891002), (50, 0.01617338108781638), (90, 0.016008822577392407), (264, 0.015758165583513544), (211, 0.015505897472090684), (136, 0.014808271176603147), (220, 0.014469870676882511), (88, 0.014298990318410636), (72, 0.014196403132755223), (164, 0.014190023467146304), (76, 0.014034288189466637), (115, 0.013922627637552542), (69, 0.013921360634902846), (311, 0.013759827739783669), (148, 0.01349705352744619), (7, 0.013458110907984575), (285, 0.013344474041102995), (62, 0.013246994870342258), (39, 0.012977842105541797), (214, 0.012672577890237128), (292, 0.01265000662758017), (180, 0.012158637159750038), (134, 0.012150245769525291), (97, 0.012009963755733696), (263, 0.01188943574185596), (156, 0.011881817810927392), (299, 0.011881561181016949), (316, 0.011869894079939053), (59, 0.011781081835822877), (320, 0.011430414061464608), (33, 0.011352005379724632), (166, 0.011097988681799537), (38, 0.01081509881241594), (152, 0.010451211756784562), (303, 0.010394027991413608), (312, 0.010310946504280417), (86, 0.010180808764052692), (92, 0.010142734990268373), (128, 0.010096280907225141), (255, 0.009991057861265033), (273, 0.009875875283932566), (0, 0.00985385031543838), (308, 0.009850941695956454), (173, 0.00982311791692801), (284, 0.009711955483944289), (34, 0.009482271431643173), (172, 0.00918259238509734), (230, 0.009162301926436873), (321, 0.00915497294395369), (174, 0.009054085718174103), (293, 0.009022829718723986), (24, 0.008686315973928327), (250, 0.008549654012243566), (195, 0.008310463712299258), (124, 0.008266783669534674), (213, 0.008238437556499145), (267, 0.00821436156187682), (327, 0.008188668845900918), (271, 0.008136898262133232), (30, 0.007822754752509837), (51, 0.0076570506993478985), (261, 0.007616160462542328), (239, 0.007574017393031489), (44, 0.007572083856099313), (290, 0.007566812886898528), (28, 0.007395462629143703), (323, 0.007300480446263892), (131, 0.007215703715000783), (243, 0.007177768006405114), (114, 0.007068637855230696), (202, 0.006922409863354623), (234, 0.0069039539266186264), (275, 0.00675588492946213), (209, 0.006451461024446619), (29, 0.0064216322264272225), (43, 0.0063927490453519024), (235, 0.006376813108044145), (252, 0.006251088945439728), (37, 0.006218170684815017), (31, 0.006211727297648398), (110, 0.006169508387215807), (184, 0.006028830308834245), (96, 0.00572737668221558), (108, 0.0054174370777393885), (192, 0.005338837806029282), (122, 0.004826935071841982), (138, 0.004535767029577464), (319, 0.004522489956589255), (318, 0.00441522841294128), (295, 0.004334589689986157), (35, 0.0039422667950363205), (191, 0.003882273387826238), (79, 0.0038040172148935242), (67, 0.0037474483559243855), (9, 0.003671580148204916), (291, 0.0036342488505975534), (163, 0.0035131222035895853), (63, 0.003290272734031978), (105, 0.0032143678620151447), (149, 0.0032119158219416307), (5, 0.0031179578206463887), (237, 0.0028877387319495686), (296, 0.0028064974982821497)]\n"
     ]
    }
   ],
   "source": [
    "sorted_similar_games = sorted(similarity_score, key = lambda x:x[1], reverse = True) \n",
    "print(sorted_similar_games)"
   ]
  },
  {
   "cell_type": "code",
   "execution_count": 22,
   "id": "a62ebf2b",
   "metadata": {},
   "outputs": [
    {
     "name": "stdout",
     "output_type": "stream",
     "text": [
      "Games suggested for you : \n",
      "\n",
      "1 . Enlisted\n",
      "2 . War Thunder\n",
      "3 . CRSED: F.O.A.D.\n",
      "4 . Crossout\n",
      "5 . Star Conflict\n",
      "6 . Astral Heroes\n",
      "7 . Conqueror's Blade\n",
      "8 . Heroes & Generals\n",
      "9 . Teeworlds\n",
      "10 . BlackShot: Revolution\n",
      "11 . Gear Up\n",
      "12 . Valorant\n",
      "13 . Super Squad\n",
      "14 . Kards\n",
      "15 . Diablo Immortal\n",
      "16 . Black Squad\n",
      "17 . PlanetSide 2\n",
      "18 . Armored Warfare\n",
      "19 . Quake Champions\n",
      "20 . Divine Souls\n",
      "21 . Shop Titans\n",
      "22 . Drifters Loot the Galaxy\n",
      "23 . Spacelords\n",
      "24 . Infestation: The New Z\n",
      "25 . Runes of Magic\n",
      "26 . Otherland\n",
      "27 . PUBG: BATTLEGROUNDS\n",
      "28 . Blood of Steel\n",
      "29 . Overwatch 2\n"
     ]
    }
   ],
   "source": [
    "print('Games suggested for you : \\n')\n",
    "\n",
    "i = 1\n",
    "\n",
    "for game in sorted_similar_games:\n",
    "  index = game[0]\n",
    "  title_from_index = df[df.index==index]['title'].values[0]\n",
    "  if (i<30):\n",
    "    print(i, '.',title_from_index)\n",
    "    i+=1"
   ]
  },
  {
   "cell_type": "code",
   "execution_count": 24,
   "id": "8f4c0710",
   "metadata": {},
   "outputs": [
    {
     "name": "stdout",
     "output_type": "stream",
     "text": [
      "Games suggested for you : \n",
      "\n",
      "1 . Kards\n",
      "2 . Screenplay CCG\n",
      "3 . Pox Nora\n",
      "4 . Destiny's Divide\n",
      "5 . Catan Universe\n",
      "6 . Hearthstone: Heroes of Warcraft\n",
      "7 . Card Hunter\n",
      "8 . One Punch Man: World\n",
      "9 . Chroma: Bloom And Blight\n",
      "10 . Legends of Runeterra\n",
      "11 . Spellweaver\n",
      "12 . Kakale Online\n",
      "13 . Astral Heroes\n",
      "14 . Hex\n",
      "15 . PC Futbol Legends\n",
      "16 . Marvel Snap\n",
      "17 . League of Legends\n",
      "18 . Epic Cards Battle\n",
      "19 . Minion Masters\n",
      "20 . Cabals: Card Blitz\n",
      "21 . Cosmos Invictus\n",
      "22 . PlanetSide 2\n",
      "23 . Magic: The Gathering Arena\n",
      "24 . Artifact\n",
      "25 . Temperia: Soul of Majestic\n",
      "26 . Survarium\n",
      "27 . Magic Spellslingers\n",
      "28 . Shaiya\n",
      "29 . MechWarrior Online\n"
     ]
    }
   ],
   "source": [
    "game_name = input(' Enter your favourite Game name : ')\n",
    "\n",
    "list_of_all_titles = df['title'].tolist()\n",
    "\n",
    "find_close_match = difflib.get_close_matches(game_name, list_of_all_titles)\n",
    "\n",
    "close_match = find_close_match[0]\n",
    "\n",
    "index_of_the_game = df[df.title == close_match].index.values[0]\n",
    "\n",
    "similarity_score = list(enumerate(similarity[index_of_the_game]))\n",
    "\n",
    "sorted_similar_games = sorted(similarity_score, key = lambda x:x[1], reverse = True) \n",
    "\n",
    "print('Games suggested for you : \\n')\n",
    "\n",
    "i = 1\n",
    "\n",
    "for game in sorted_similar_games:\n",
    "  index = game[0]\n",
    "  title_from_index = df[df.index==index]['title'].values[0]\n",
    "  if (i<30):\n",
    "    print(i, '.',title_from_index)\n",
    "    i+=1"
   ]
  },
  {
   "cell_type": "code",
   "execution_count": null,
   "id": "24a28263",
   "metadata": {},
   "outputs": [],
   "source": []
  }
 ],
 "metadata": {
  "kernelspec": {
   "display_name": "Python 3 (ipykernel)",
   "language": "python",
   "name": "python3"
  },
  "language_info": {
   "codemirror_mode": {
    "name": "ipython",
    "version": 3
   },
   "file_extension": ".py",
   "mimetype": "text/x-python",
   "name": "python",
   "nbconvert_exporter": "python",
   "pygments_lexer": "ipython3",
   "version": "3.12.4"
  }
 },
 "nbformat": 4,
 "nbformat_minor": 5
}
